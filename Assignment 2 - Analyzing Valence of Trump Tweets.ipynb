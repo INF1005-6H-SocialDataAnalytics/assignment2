{
 "cells": [
  {
   "cell_type": "markdown",
   "metadata": {},
   "source": [
    "# Assignment 2 - Analyzing Valence of Trump Tweets\n",
    "\n",
    "Language is pliable. Words can take on different meanings depending on context and who is speaking them. Political speech is no exception. \n",
    "\n",
    "In this assignment, you will be collecting Twitter data on the word 'trump'. We are nearly overloaded with news about the US president these days. What you will be doing for this exercise is collecting a sample of tweets about the US president. You will then be categorizing the tweets for three associated topic areas: Steve Bannon, refugees, and discussion of the news.\n",
    "\n",
    "Once you collect the data, you will count how many positive and negative words occur in the article and then plot the difference.\n",
    "\n",
    "**Note**: For this assignment, you must zip your whole folder and submit the zip file to get credit for the assignment."
   ]
  },
  {
   "cell_type": "code",
   "execution_count": null,
   "metadata": {
    "collapsed": true
   },
   "outputs": [],
   "source": [
    "## load pandas and numpy\n",
    "import pandas as pd\n",
    "import numpy as np\n",
    "\n",
    "## loads regular expression and string modules\n",
    "import re\n",
    "import string\n",
    "\n",
    "## list of words for positive, negative\n",
    "POSITIVE_WORDS = open('data/positive.txt', 'r').read().split('\\n')\n",
    "NEGATIVE_WORDS = open('data/negative.txt', 'r').read().split('\\n')"
   ]
  },
  {
   "cell_type": "code",
   "execution_count": null,
   "metadata": {
    "collapsed": true
   },
   "outputs": [],
   "source": [
    "def createDataFrame():\n",
    "    \"\"\" \n",
    "        This function collects the Twitter files \n",
    "        and copies retweet text into the main text field.\n",
    "        Returns dataframe of all tweets.\n",
    "    \"\"\"\n",
    "    import glob\n",
    "\n",
    "    tweets = []\n",
    "    files  = list(glob.iglob('assignment2*.json'))\n",
    "    for f in files:\n",
    "        fh = open(f, 'r', encoding = 'utf-8')\n",
    "        tweets_json = fh.read().split(\"\\n\")\n",
    "\n",
    "        ## remove empty lines\n",
    "        tweets_json = list(filter(len, tweets_json))\n",
    "\n",
    "        ## parse each tweet\n",
    "        for tweet in tweets_json:\n",
    "            try:\n",
    "                tweet_obj = json.loads(tweet)\n",
    "\n",
    "                ## copy RT text into text if it exists\n",
    "                if 'retweeted_status' in tweet_obj:\n",
    "                    tweet_obj['text'] = tweet_obj['retweeted_status']['text']\n",
    "\n",
    "                tweets.append(tweet_obj)\n",
    "            except:\n",
    "                pass\n",
    "\n",
    "    return pd.DataFrame(tweets)"
   ]
  },
  {
   "cell_type": "code",
   "execution_count": null,
   "metadata": {
    "collapsed": true
   },
   "outputs": [],
   "source": [
    "def findPositive(x):\n",
    "    \"\"\" \n",
    "        Loops through a list of positive words. \n",
    "        Returns count of positive words. \n",
    "    \"\"\"\n",
    "\n",
    "    count = 0\n",
    "    \n",
    "    ## remove punctuation\n",
    "    x = re.sub('['+string.punctuation+']', '', x)\n",
    "    \n",
    "    ## loop through positive words, increment count if found\n",
    "    for w in x.split():\n",
    "        if w in POSITIVE_WORDS:\n",
    "            count += 1\n",
    "    return count\n",
    "\n",
    "def findNegative(x):\n",
    "    \"\"\" \n",
    "        Loops through a list of negative words. \n",
    "        Returns count of negative words. \n",
    "    \"\"\"\n",
    "\n",
    "    count = 0\n",
    "    \n",
    "    ## remove punctuation\n",
    "    x = re.sub('['+string.punctuation+']', '', x)\n",
    "\n",
    "    ## loop through negative words, increment count if found\n",
    "    for w in x.split():\n",
    "        if w in NEGATIVE_WORDS:\n",
    "            count += 1\n",
    "    return count"
   ]
  },
  {
   "cell_type": "code",
   "execution_count": null,
   "metadata": {
    "collapsed": true
   },
   "outputs": [],
   "source": [
    "## This imports tweepy. If you haven't installed it on your computer, \n",
    "## try the commands below.\n",
    "try:\n",
    "    import tweepy\n",
    "except ImportError:\n",
    "    !pip install tweepy --prefix=packages\n",
    "    import os\n",
    "    import sys\n",
    "    path = '/packages/Lib/site-packages'\n",
    "    ## If you are running this on Mac, comment out the previous line \n",
    "    ## and uncomment the line below\n",
    "    ##path = '/packages/lib/python3.5/site-packages'\n",
    "    sys.path.insert(0, os.getcwd() + path)"
   ]
  },
  {
   "cell_type": "code",
   "execution_count": null,
   "metadata": {
    "collapsed": true
   },
   "outputs": [],
   "source": [
    "from slistener import SListener\n",
    "import json\n",
    "import time\n",
    "import tweepy\n",
    "import sys\n",
    "\n",
    "## TODO 1: Enter the authentication tokens which you used in lab.\n",
    "access_token = \"\"\n",
    "access_token_secret = \"\"\n",
    "consumer_key = \"\"\n",
    "consumer_secret = \"\n",
    "\n",
    "auth = tweepy.OAuthHandler(consumer_key, consumer_secret)\n",
    "auth.set_access_token(access_token, access_token_secret)\n",
    "api  = tweepy.API(auth)"
   ]
  },
  {
   "cell_type": "code",
   "execution_count": null,
   "metadata": {
    "collapsed": false
   },
   "outputs": [],
   "source": [
    "## TODO 2: create a list called track which contains the string 'trump'\n",
    "\n",
    "## TODO 3: set up the listen and stream objects. Pass 'assignment2' as\n",
    "## the second argument to SListener.\n",
    "\n",
    "print(\"Streaming started...\")\n",
    "\n",
    "## Run this cell. \n",
    "## NOTE: let this run until it finishes. It will have collected 500 tweets.\n",
    "## It should take a minute or so, depending on when you run it.\n",
    "try:\n",
    "    stream.filter(track = track)\n",
    "except:\n",
    "    pass"
   ]
  },
  {
   "cell_type": "code",
   "execution_count": null,
   "metadata": {
    "collapsed": false
   },
   "outputs": [],
   "source": [
    "## Loads all the tweets. Moves the retweets into main text.\n",
    "df_tweet = createDataFrame()"
   ]
  },
  {
   "cell_type": "code",
   "execution_count": null,
   "metadata": {
    "collapsed": true
   },
   "outputs": [],
   "source": [
    "## TODO 4: create a lowercase text column for text called 'l_text'"
   ]
  },
  {
   "cell_type": "code",
   "execution_count": null,
   "metadata": {
    "collapsed": false
   },
   "outputs": [],
   "source": [
    "## TODO 5: find presence of 'bannon' in lowercase text. \n",
    "## store in a column called 'bannon'\n",
    "\n",
    "## TODO 6: find presence of 'refugee' in lowercase text.\n",
    "## store in a column called 'refugee'\n",
    "\n",
    "## TODO 7: find presence of 'news' in lowercase text.\n",
    "## store in a column called 'news'"
   ]
  },
  {
   "cell_type": "code",
   "execution_count": null,
   "metadata": {
    "collapsed": false
   },
   "outputs": [],
   "source": [
    "## TODO 8: Apply function findPositive to the lowercase text. \n",
    "## store in a column called 'positive'\n",
    "\n",
    "## TODO 9: Apply function findNegative to the lowercase text. \n",
    "## store in a column called 'negative'\n",
    "\n",
    "## TODO 10: subtract positive column from negative column.\n",
    "## store in a column called 'valence'"
   ]
  },
  {
   "cell_type": "code",
   "execution_count": null,
   "metadata": {
    "collapsed": true
   },
   "outputs": [],
   "source": [
    "## TODO 11: Import plotting modules"
   ]
  },
  {
   "cell_type": "code",
   "execution_count": null,
   "metadata": {
    "collapsed": false
   },
   "outputs": [],
   "source": [
    "## TODO 12: Plot histogram of valence for tweets with bannon label."
   ]
  },
  {
   "cell_type": "code",
   "execution_count": null,
   "metadata": {
    "collapsed": false
   },
   "outputs": [],
   "source": [
    "## TODO 13: Plot histogram of valence for tweets with refugee label."
   ]
  },
  {
   "cell_type": "code",
   "execution_count": null,
   "metadata": {
    "collapsed": false
   },
   "outputs": [],
   "source": [
    "## TODO 14: Plot histogram of valence for tweets with news label."
   ]
  }
 ],
 "metadata": {
  "anaconda-cloud": {},
  "kernelspec": {
   "display_name": "Python [Root]",
   "language": "python",
   "name": "Python [Root]"
  },
  "language_info": {
   "codemirror_mode": {
    "name": "ipython",
    "version": 3
   },
   "file_extension": ".py",
   "mimetype": "text/x-python",
   "name": "python",
   "nbconvert_exporter": "python",
   "pygments_lexer": "ipython3",
   "version": "3.5.2"
  }
 },
 "nbformat": 4,
 "nbformat_minor": 0
}
